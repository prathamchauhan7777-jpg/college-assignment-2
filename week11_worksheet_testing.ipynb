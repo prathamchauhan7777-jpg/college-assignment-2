{
  "cells": [
    {
      "cell_type": "markdown",
      "metadata": {
        "id": "view-in-github",
        "colab_type": "text"
      },
      "source": [
        "<a href=\"https://colab.research.google.com/github/prathamchauhan7777-jpg/college-assignment-2/blob/main/week11_worksheet_testing.ipynb\" target=\"_parent\"><img src=\"https://colab.research.google.com/assets/colab-badge.svg\" alt=\"Open In Colab\"/></a>"
      ]
    },
    {
      "cell_type": "markdown",
      "metadata": {
        "id": "lHfKtSg-xglO"
      },
      "source": [
        "# Workshop Overview\n",
        "\n",
        "This worksheet guides you through practical exercises in test specification and verification. You'll practice the core skills from Modules 1-3: writing specifications, designing test strategies, and working with AI to verify code quality.\n",
        "\n",
        "**Learning Objectives:**\n",
        "- Write clear specifications using assertions\n",
        "- Apply systematic frameworks for test design (Given/When/Then, Equivalence Partitioning)\n",
        "- Make strategic decisions about test adequacy and risk\n",
        "- Evaluate AI-generated code and tests for simplicity and correctness\n",
        "- Practice the Specify → Generate → Verify → Refine cycle\n",
        "\n",
        "**Your Role:**\n",
        "You are the **strategic architect**. AI is your implementation assistant. You decide:\n",
        "- What needs testing (and what doesn't)\n",
        "- How comprehensive tests should be\n",
        "- Whether code is simple enough\n",
        "- When to ask AI for improvements\n",
        "\n",
        "**AI-First Approach:**\n",
        "We focus on \"specify and verify\" rather than manual coding. You'll learn to clearly communicate requirements to AI, then critically evaluate results."
      ]
    },
    {
      "cell_type": "markdown",
      "metadata": {
        "id": "WpWwrGNixglQ"
      },
      "source": [
        "---\n",
        "\n",
        "# Part 1: Understanding Assertions (20 minutes)\n",
        "\n",
        "## Exercise 1.1: Reading Assertions\n",
        "\n",
        "Examine these assertions and answer the questions:"
      ]
    },
    {
      "cell_type": "code",
      "execution_count": null,
      "metadata": {
        "id": "Ns1POk4vxglQ"
      },
      "outputs": [],
      "source": [
        "def calculate_tax(amount, rate):\n",
        "    \"\"\"Calculate tax on a purchase amount.\"\"\"\n",
        "    return amount * rate\n",
        "\n",
        "# Assertions\n",
        "assert calculate_tax(100, 0.10) == 10.0\n",
        "assert calculate_tax(50, 0.20) == 10.0\n",
        "assert calculate_tax(0, 0.10) == 0.0"
      ]
    },
    {
      "cell_type": "markdown",
      "metadata": {
        "id": "FdW7jT3VxglQ"
      },
      "source": [
        "**Questions:**\n",
        "1. What do these assertions tell you about what the function should do?\n",
        "2. What scenarios are being tested?\n",
        "3. What scenarios are NOT tested that probably should be?\n",
        "\n",
        "**Your answers:**"
      ]
    },
    {
      "cell_type": "code",
      "execution_count": null,
      "metadata": {
        "id": "caw4xuZCxglQ"
      },
      "outputs": [],
      "source": [
        "# Write your answers as comments:\n",
        "# 1.The assertions are used to check if the calculate_tax function is working correctly. They show that:\n",
        "- The function should take two inputs: the amount of a purchase and the tax rate.\n",
        "- It should return the result of multiplying those two values.\n",
        "- The result should be a decimal number (like 10.0).\n",
        "- If the amount is zero, the tax should also be zero, no matter what the rate is.\n",
        "# 2.- Normal tax calculation – The function is tested with typical values to see if it correctly calculates tax. For example, calculating 10% of 100 should return 10.0.\n",
        "- Different tax rates It checks whether the function works with various rates, like 20% of 50, which should also return 10.0.\n",
        "- Zero amount case It tests how the function behaves when the purchase amount is zero. In this case, the expected result is zero, since no tax should be applied.\n",
        "# 3.- Negative values – The function isn’t tested with negative amounts or tax rates. It’s important to check how it behaves if someone enters a negative number by mistake.\n",
        "- Very large numbers There's no test for extremely large amounts or rates. This helps make sure the function can handle big values without errors.\n",
        "- Non-numeric inputs - The function isn't tested with inputs like text or special characters. It’s good to see how it reacts if someone enters something that isn’t a number.\n",
        "- Tax rate as zero - While there's a test for zero amount, there’s no test for when the tax rate is zero. That should return zero tax too.\n",
        "- Floating-point precision - There's no test for small decimal values, like calculate_tax(0.01, 0.05). These help check if the function handles tiny numbers correctly."
      ]
    },
    {
      "cell_type": "markdown",
      "metadata": {
        "id": "ns9pjnI3xglQ"
      },
      "source": [
        "## Exercise 1.2: Writing Your First Assertions\n",
        "\n",
        "Write assertions for this function specification:\n",
        "\n",
        "**Specification:** A function `is_even(n)` that returns `True` if a number is even, `False` if odd."
      ]
    },
    {
      "cell_type": "code",
      "execution_count": null,
      "metadata": {
        "id": "64hY1i3axglQ"
      },
      "outputs": [],
      "source": [
        "def is_even(n):\n",
        "    \"\"\"Return True if n is even, False if odd.\"\"\"\n",
        "    return n % 2 == 0\n",
        "\n",
        "# Write at least 4 assertions testing different scenarios:\n",
        "# TODO: Add your assertions here\n",
        "assert is_even(2) == True        # Testing a small even number\n",
        "assert is_even(7) == False       # Testing a small odd number\n",
        "assert is_even(0) == True        # Testing zero, which is considered even\n",
        "assert is_even(-4) == True       # Testing a negative even number"
      ]
    },
    {
      "cell_type": "raw",
      "metadata": {
        "id": "2jId5lNnxglQ"
      },
      "source": [
        "**Reflection questions:**\n",
        "- What test cases did you include?\n",
        "- Did you test negative numbers? Zero? Why or why not?\n",
        "\n",
        "---"
      ]
    },
    {
      "cell_type": "markdown",
      "metadata": {
        "id": "u8TgAVxQxglR"
      },
      "source": [
        "# Part 2: Specification Design (30 minutes)\n",
        "\n",
        "## Exercise 2.1: From Requirements to Specifications\n",
        "\n",
        "**Requirement:** \"Create a function that determines if a year is a leap year. Leap years are divisible by 4, except for years divisible by 100 (which are not leap years), unless they're also divisible by 400 (which are leap years).\"\n",
        "\n",
        "### Step 1: Understand the Requirement\n",
        "\n",
        "Write in plain language what the function should do:"
      ]
    },
    {
      "cell_type": "code",
      "execution_count": null,
      "metadata": {
        "id": "Rc2hyaGnxglR"
      },
      "outputs": [],
      "source": [
        "\"\"\"\n",
        "Your plain language description:The function should check if a given year is a leap year or not. A leap year happens every four years, but there are some exceptions. If the year can be divided evenly by 4, it might be a leap year. However, if the year can also be divided by 100, it is not a leap year—unless it can also be divided by 400. In that case, it is a leap year. The function should return True for leap years and False for other years.\n",
        "\n",
        "\n",
        "\"\"\""
      ]
    },
    {
      "cell_type": "markdown",
      "metadata": {
        "id": "1y7dy7B6xglR"
      },
      "source": [
        "### Step 2: Apply Systematic Test Design Framework\n",
        "\n",
        "**Framework 1: Given/When/Then Structure**\n",
        "\n",
        "This helps you think clearly about test scenarios:\n",
        "- **Given** (context): What's the starting state?\n",
        "- **When** (action): What operation happens?\n",
        "- **Then** (outcome): What should result?\n",
        "\n",
        "**Framework 2: Equivalence Partitioning**\n",
        "\n",
        "Group inputs into categories that should behave the same way:\n",
        "- What are the different \"classes\" of inputs?\n",
        "- What's a representative example from each class?\n",
        "\n",
        "**Apply to Leap Year:**"
      ]
    },
    {
      "cell_type": "code",
      "execution_count": null,
      "metadata": {
        "id": "nzXxobFAxglR"
      },
      "outputs": [],
      "source": [
        "\"\"\"\n",
        "Equivalence Classes for Leap Year:\n",
        "\n",
        "1. LEAP: Years divisible by 400\n",
        "   Example: 2000\n",
        "\n",
        "2. NOT LEAP: Years divisible by 100 but not 400\n",
        "   Example: 1900\n",
        "\n",
        "3. LEAP: Years divisible by 4 but not 100\n",
        "   Example: 2024\n",
        "\n",
        "4. NOT LEAP: Years not divisible by 4\n",
        "   Example: 2023\n",
        "\n",
        "\"\"\""
      ]
    },
    {
      "cell_type": "markdown",
      "metadata": {
        "id": "DcJCf-2FxglR"
      },
      "source": [
        "**Now write as Given/When/Then:**"
      ]
    },
    {
      "cell_type": "code",
      "execution_count": null,
      "metadata": {
        "id": "3xSBT0h4xglR"
      },
      "outputs": [],
      "source": [
        "- Given a year that is divisible by 400\n",
        "When we check if it's a leap year\n",
        "Then the result should be True\n",
        "- Given a year that is divisible by 100 but not by 400\n",
        "When we check if it's a leap year\n",
        "Then the result should be False\n",
        "- Given a year that is divisible by 4 but not by 100\n",
        "When we check if it's a leap year\n",
        "Then the result should be True\n",
        "- Given a year that is not divisible by 4\n",
        "When we check if it's a leap year\n",
        "Then the result should be False"
      ]
    },
    {
      "cell_type": "markdown",
      "metadata": {
        "id": "S_WWbfK0xglR"
      },
      "source": [
        "**Boundary Analysis:**"
      ]
    },
    {
      "cell_type": "code",
      "execution_count": null,
      "metadata": {
        "id": "kfGz1idXxglR"
      },
      "outputs": [],
      "source": [
        "\"\"\"\n",
        "At the \"boundaries\" between categories, test both sides:\n",
        "\n",
        "Boundary at 100 divisibility:\n",
        "- 1896: leap (before boundary)\n",
        "- 1900: not leap (at boundary)\n",
        "- 1904: leap (after boundary)\n",
        "\n",
        "Boundary at 400 divisibility:\n",
        "- [Your examples]\n",
        "\n",
        "\"\"\"Boundary at 400 divisibility:\n",
        "- 1596: not leap (before boundary)\n",
        "- 1600: leap (at boundary)\n",
        "- 1604: not leap (after boundary)"
      ]
    },
    {
      "cell_type": "markdown",
      "metadata": {
        "id": "GZ4DdU1zxglR"
      },
      "source": [
        "### Step 3: Evaluate Test Adequacy\n",
        "\n",
        "Before writing assertions, answer these strategic questions:"
      ]
    },
    {
      "cell_type": "code",
      "execution_count": null,
      "metadata": {
        "id": "aD5JrJ9ExglR"
      },
      "outputs": [],
      "source": [
        "1. Have I covered all equivalence classes?\n",
        "Yes. I included examples for each type of year: divisible by 400, divisible by 100 but not 400, divisible by 4 but not 100, and not divisible by 4.\n",
        "2. Have I tested boundaries between classes?\n",
        "Yes. I tested years just before, at, and after the key points where the leap year rules change, such as around years divisible by 100 and 400.\n",
        "3. What's the risk if this function fails?\n",
        "Medium. If the function gives the wrong result, it could affect date-related features in applications, such as calendars, scheduling systems, or age calculations.\n",
        "4. Based on risk, how many tests do I need?\n",
        "Since the risk is medium, I included one test for each category and added boundary tests to make sure the function handles edge cases correctly.\n",
        "My decision:\n",
        "The current number of tests is appropriate for the level of risk. They provide enough coverage without being excessive.\n",
        "5. Am I over-testing?\n",
        "No. Each test checks a different rule or edge case. Removing any of them could reduce confidence in the function’s accuracy."
      ]
    },
    {
      "cell_type": "markdown",
      "metadata": {
        "id": "lXRkMWQOxglR"
      },
      "source": [
        "### Step 4: Write Executable Specifications\n",
        "\n",
        "Now convert your scenarios to assertions:"
      ]
    },
    {
      "cell_type": "code",
      "execution_count": null,
      "metadata": {
        "id": "MHOIKrelxglS"
      },
      "outputs": [],
      "source": [
        "def is_leap_year(year):\n",
        "    \"\"\"\n",
        "    Determine if a year is a leap year.\n",
        "\n",
        "    Rules:\n",
        "    - Divisible by 4: leap year\n",
        "    - Divisible by 100: NOT a leap year\n",
        "    - Divisible by 400: leap year\n",
        "    \"\"\"\n",
        "    # You'll implement this with AI assistance later\n",
        "    pass\n",
        "\n",
        "# Write your assertions here (one per equivalence class minimum):\n",
        "# assert is_leap_year(2000) == True   # Class 1: divisible by 400\n",
        "# assert is_leap_year(1900) == False  # Class 2: divisible by 100 but not 400\n",
        "# Assertions\n",
        "assert is_leap_year(2000) == True     # Class 1: divisible by 400\n",
        "assert is_leap_year(1900) == False    # Class 2: divisible by 100 but not 400\n",
        "assert is_leap_year(2024) == True     # Class 3: divisible by 4 but not 100\n",
        "assert is_leap_year(2023) == False    # Class 4: not divisible by 4\n",
        "\n",
        "# Boundary tests\n",
        "assert is_leap_year(1896) == True     # Before 100-divisibility boundary\n",
        "assert is_leap_year(1900) == False    # At 100-divisibility boundary\n",
        "assert is_leap_year(1904) == True     # After 100-divisibility boundary\n",
        "\n",
        "assert is_leap_year(1596) == False    # Before 400-divisibility boundary\n",
        "assert is_leap_year(1600) == True     # At 400-divisibility boundary\n",
        "assert is_leap_year(1604) == False    # After 400-divisibility boundary"
      ]
    },
    {
      "cell_type": "markdown",
      "metadata": {
        "id": "X-kqEcoOxglS"
      },
      "source": [
        "## Exercise 2.2: AI-Assisted Scenario Discovery\n",
        "\n",
        "**Task:** Use AI to help you think comprehensively about test scenarios.\n",
        "\n",
        "**Your prompt to AI:**\n",
        "```\n",
        "I'm testing a leap year function with these rules:\n",
        "\n",
        "- Divisible by 4: leap year\n",
        "- Divisible by 100: NOT leap year  \n",
        "- Divisible by 400: leap year\n",
        "\n",
        "What test scenarios should I consider? Include:\n",
        "- Normal cases\n",
        "- Edge cases\n",
        "- Boundary conditions\n",
        "- Any tricky scenarios I might miss\n",
        "```\n",
        "\n",
        "**Copy AI's response here:**"
      ]
    },
    {
      "cell_type": "code",
      "execution_count": null,
      "metadata": {
        "id": "Wrckk-KixglS"
      },
      "outputs": [],
      "source": [
        "\"\"\"\n",
        "AI suggested scenarios:Here’s a comprehensive response to your prompt:\n",
        "\n",
        "---\n",
        "\n",
        "**Test Scenarios to Consider for Leap Year Function**\n",
        "\n",
        "**1. Normal Cases:**\n",
        "- Year divisible by 4 but not by 100 → should return `True`\n",
        "  Example: `2024`\n",
        "- Year not divisible by 4 → should return `False`\n",
        "  Example: `2023`\n",
        "\n",
        "**2. Edge Cases:**\n",
        "- Year divisible by 100 but not by 400 → should return `False`\n",
        "  Example: `1900`\n",
        "- Year divisible by 400 → should return `True`\n",
        "  Example: `2000`\n",
        "- Year is zero → depending on interpretation, `0` is divisible by 400, so it may return `True`\n",
        "- Negative years → test how the function handles years like `-400` or `-100`\n",
        "\n",
        "**3. Boundary Conditions:**\n",
        "- Just before a leap year → `2023` should return `False`\n",
        "- Leap year itself → `2024` should return `True`\n",
        "- Just after a leap year → `2025` should return `False`\n",
        "- Around century boundaries:\n",
        "  - `1896` (leap), `1900` (not leap), `1904` (leap)\n",
        "  - `1596` (not leap), `1600` (leap), `1604` (not leap)\n",
        "\n",
        "**4. Tricky or Missed Scenarios:**\n",
        "- Very large year values → e.g., `2400` should return `True`\n",
        "- Very small year values → e.g., `1` should return `False`\n",
        "- Non-integer input → e.g., `2000.5` or `\"2000\"` should be handled or rejected\n",
        "- Unexpected types → e.g., `None`, empty string, or boolean values\n",
        "\n",
        "---\n",
        "\n",
        "These scenarios help ensure your function is reliable across typical inputs, edge cases, and unexpected values. Let me know if you want to turn these into actual test code.\n",
        "\n",
        "\n",
        "\"\"\""
      ]
    },
    {
      "cell_type": "markdown",
      "metadata": {
        "id": "yIF5EJWZxglS"
      },
      "source": [
        "**Your evaluation:**"
      ]
    },
    {
      "cell_type": "code",
      "execution_count": null,
      "metadata": {
        "id": "Jr2eYXp7xglS"
      },
      "outputs": [],
      "source": [
        "Which of AI's suggestions are relevant?\n",
        "Most of the suggestions are relevant. They cover normal cases, edge cases, boundary conditions, and unexpected inputs that could affect how the function behaves.\n",
        "Which did you already have?\n",
        "I had already included the main equivalence classes: years divisible by 400, divisible by 100 but not 400, divisible by 4 but not 100, and not divisible by 4. I also added boundary tests around century years.\n",
        "Which are new and valuable?\n",
        "The idea of testing zero and negative years is new and useful. These cases help check how the function handles unusual inputs. Suggestions about non-integer and unexpected types like strings or None are also valuable for making the function more robust.\n",
        "Any suggestions that don't apply?\n",
        "Some suggestions, like testing boolean values or empty strings, may not apply unless the function is expected to handle those types. If the input is always expected to be an integer, those cases might not be necessary."
      ]
    },
    {
      "cell_type": "markdown",
      "metadata": {
        "id": "xxujuF4uxglS"
      },
      "source": [
        "---\n",
        "\n",
        "# Part 3: The Specify → Generate → Verify Cycle (40 minutes)\n",
        "\n",
        "## Exercise 3.1: Complete Implementation Workflow\n",
        "\n",
        "You'll now complete the leap year function using the full workflow.\n",
        "\n",
        "### Step 1: Your Specifications (already done above)\n",
        "\n",
        "Review your assertions from Exercise 2.1.\n",
        "\n",
        "### Step 2: Ask AI to Implement\n",
        "\n",
        "**Your prompt to AI:**\n",
        "```\n",
        "Write a Python function is_leap_year(year) that implements these rules:\n",
        "\n",
        "- Divisible by 4: leap year\n",
        "- Divisible by 100: NOT leap year\n",
        "- Divisible by 400: leap year\n",
        "\n",
        "Make these assertions pass:\n",
        "[paste your assertions here]\n",
        "\n",
        "Use only basic Python (if statements, boolean operators).\n",
        "Keep it simple and readable.\n",
        "```\n",
        "\n",
        "**Paste AI's implementation here:**"
      ]
    },
    {
      "cell_type": "code",
      "execution_count": null,
      "metadata": {
        "id": "zWOXyGjjxglS"
      },
      "outputs": [],
      "source": [
        "# AI's implementation:def is_leap_year(year):\n",
        "    \"\"\"\n",
        "    Determine if a year is a leap year.\n",
        "\n",
        "    Rules:\n",
        "    - Divisible by 4: leap year\n",
        "    - Divisible by 100: NOT leap year\n",
        "    - Divisible by 400: leap year\n",
        "    \"\"\"\n",
        "    if year % 400 == 0:\n",
        "        return True\n",
        "    elif year % 100 == 0:\n",
        "        return False\n",
        "    elif year % 4 == 0:\n",
        "        return True\n",
        "    else:\n",
        "        return False"
      ]
    },
    {
      "cell_type": "markdown",
      "metadata": {
        "id": "xWul-hW8xglS"
      },
      "source": [
        "### Step 3: Verify\n",
        "\n",
        "Run the code with your assertions. Do they all pass?"
      ]
    },
    {
      "cell_type": "code",
      "execution_count": null,
      "metadata": {
        "id": "LvybBUZKxglS"
      },
      "outputs": [],
      "source": [
        "# Test the implementation\n",
        "\n",
        "def is_leap_year(year):\n",
        "    \"\"\"\n",
        "    Determine if a year is a leap year.\n",
        "\n",
        "    Rules:\n",
        "    - Divisible by 4: leap year\n",
        "    - Divisible by 100: NOT leap year\n",
        "    - Divisible by 400: leap year\n",
        "    \"\"\"\n",
        "    if year % 400 == 0:\n",
        "        return True\n",
        "    elif year % 100 == 0:\n",
        "        return False\n",
        "    elif year % 4 == 0:\n",
        "        return True\n",
        "    else:\n",
        "        return False\n",
        "\n",
        "# Assertions\n",
        "try:\n",
        "    assert is_leap_year(2000) == True     # Class 1\n",
        "    assert is_leap_year(1900) == False    # Class 2\n",
        "    assert is_leap_year(2024) == True     # Class 3\n",
        "    assert is_leap_year(2023) == False    # Class 4\n",
        "    assert is_leap_year(1896) == True     # Boundary before 100-divisibility\n",
        "    assert is_leap_year(1900) == False    # Boundary at 100-divisibility\n",
        "    assert is_leap_year(1904) == True     # Boundary after 100-divisibility\n",
        "    assert is_leap_year(1596) == False    # Boundary before 400-divisibility\n",
        "    assert is_leap_year(1600) == True     # Boundary at 400-divisibility\n",
        "    assert is_leap_year(1604) == False    # Boundary after 400-divisibility\n",
        "\n",
        "    all_passed = True\n",
        "except AssertionError:\n",
        "    all_passed = False\n",
        "\n",
        "# Report results\n",
        "print(\"All tests passed!\" if all_passed else \"Some tests failed\")"
      ]
    },
    {
      "cell_type": "markdown",
      "metadata": {
        "id": "1CLelaSrxglS"
      },
      "source": [
        "### Step 4: Evaluate Code Quality\n",
        "\n",
        "Answer these questions about AI's implementation:"
      ]
    },
    {
      "cell_type": "code",
      "execution_count": null,
      "metadata": {
        "id": "t1CNHc5axglS"
      },
      "outputs": [],
      "source": [
        "\"\" 1. Is the code simple enough for a beginner to understand?**\n",
        "Yes. The function uses straightforward `if`, `elif`, and `else` statements, which are easy for beginners to follow. The conditions are written clearly, and the structure is logical.\n",
        "\n",
        "**2. Does it use only basic Python features?**\n",
        "Yes. It relies only on basic control flow and arithmetic operations. There are no advanced concepts like loops, lists, or custom classes, making it suitable for someone new to Python.\n",
        "\n",
        "**3. Is the logic clear and correct?**\n",
        "Yes. The logic follows the leap year rules accurately:\n",
        "- Years divisible by 400 are leap years.\n",
        "- Years divisible by 100 but not 400 are not leap years.\n",
        "- Years divisible by 4 but not 100 are leap years.\n",
        "- All other years are not leap years.\n",
        "\n",
        "The order of conditions ensures that exceptions are handled properly.\n",
        "\n",
        "**4. Would you have solved it differently? How?**\n",
        "The current solution is already clean and readable. An alternative could be using a single return statement with a compound condition like:\n",
        "\n",
        "```python\n",
        "return (year % 4 == 0 and year % 100 != 0) or (year % 400 == 0)\n",
        "```\n",
        "\"\"\""
      ]
    },
    {
      "cell_type": "markdown",
      "metadata": {
        "id": "C5RofSL1xglS"
      },
      "source": [
        "### Step 5: Request Simplification (if needed)\n",
        "\n",
        "If the code is too complex, ask AI to simplify:\n",
        "\n",
        "**Your prompt:**\n",
        "```\n",
        "This works but is too complex for a beginner.\n",
        "Can you rewrite it using only simple if statements?\n",
        "Make the logic as clear as possible.\n",
        "```\n",
        "\n",
        "**Simpler version (if needed):**"
      ]
    },
    {
      "cell_type": "code",
      "execution_count": null,
      "metadata": {
        "id": "KoDbaZ2MxglS"
      },
      "outputs": [],
      "source": [
        "# Simplified implementation:def is_leap_year(year):\n",
        "    \"\"\"\n",
        "    Check if a year is a leap year using simple logic.\n",
        "    \"\"\"\n",
        "    if year % 400 == 0:\n",
        "        return True\n",
        "    if year % 100 == 0:\n",
        "        return False\n",
        "    if year % 4 == 0:\n",
        "        return True\n",
        "    return False"
      ]
    },
    {
      "cell_type": "markdown",
      "metadata": {
        "id": "xrgzYLu-xglS"
      },
      "source": [
        "---\n",
        "\n",
        "# Part 4: Test Design Practice (40 minutes)\n",
        "\n",
        "## Exercise 4.1: Strategic Test Design with Risk Analysis\n",
        "\n",
        "**Scenario:** You need to test a password strength validator.\n",
        "\n",
        "**Requirements:**\n",
        "- Password must be at least 8 characters\n",
        "- Must contain at least one uppercase letter\n",
        "- Must contain at least one number\n",
        "- Must contain at least one special character (!@#$%^&*)\n",
        "\n",
        "### Step 1: Risk Assessment"
      ]
    },
    {
      "cell_type": "code",
      "execution_count": null,
      "metadata": {
        "id": "WAZOh2asxglT"
      },
      "outputs": [],
      "source": [
        "**Risk Analysis:**\n",
        "\n",
        "1. **What happens if this function fails?**\n",
        "   - **Security implications:** If weak passwords are accepted, it could lead to unauthorized access, data breaches, or compromised user accounts.\n",
        "   - **User experience impact:** If strong passwords are incorrectly rejected, users may become frustrated, abandon sign-up processes, or lose trust in the system.\n",
        "   - **Business impact:** Poor password validation can damage the reputation of the product, increase support costs, and potentially violate data protection regulations.\n",
        "\n",
        "2. **Risk level:** High\n",
        "   Password validation is a critical security feature. Any failure could have serious consequences for both users and the organization.\n",
        "\n",
        "3. **Based on this risk, my testing strategy should be:**\n",
        "   Comprehensive – I will test all relevant input categories, edge cases, and stress scenarios to ensure the validator is reliable, secure, and user-friendly."
      ]
    },
    {
      "cell_type": "markdown",
      "metadata": {
        "id": "HiJ1WrPoxglT"
      },
      "source": [
        "### Step 2: Equivalence Partitioning"
      ]
    },
    {
      "cell_type": "code",
      "execution_count": null,
      "metadata": {
        "id": "KM2XLycPxglT"
      },
      "outputs": [],
      "source": [
        "**Identify equivalence classes (categories that behave the same):**\n",
        "\n",
        "**VALID class (all requirements met):**\n",
        "- Example: `\"Secure1@\"`\n",
        "  This password is at least 8 characters, includes an uppercase letter, a number, and a special character.\n",
        "\n",
        "**INVALID classes (each requirement violation):**\n",
        "\n",
        "- **Too short (< 8 chars):**\n",
        "  Example: `\"S1@\"`\n",
        "  Fails due to length, even though it has uppercase, number, and special character.\n",
        "\n",
        "- **Missing uppercase:**\n",
        "  Example: `\"secure1@\"`\n",
        "  All other rules are met, but no uppercase letter.\n",
        "\n",
        "- **Missing number:**\n",
        "  Example: `\"Secure@@\"`\n",
        "  Has length, uppercase, and special character, but no digit.\n",
        "\n",
        "- **Missing special character:**\n",
        "  Example: `\"Secure12\"`\n",
        "  Meets length, uppercase, and number, but lacks a special character.\n",
        "\n",
        "- **Multiple violations:**\n",
        "  Example: `\"short\"`\n",
        "  Too short, no uppercase, no number, no special character.\n",
        "\n",
        "---\n",
        "\n",
        "**Do I need to test EVERY invalid combination?**\n",
        "**Decision: Yes**\n",
        "\n",
        "**Reasoning:**\n",
        "Each rule protects a different aspect of password strength. If the validator fails to catch even one type of weakness, it could allow insecure passwords. Testing each violation separately and in combination ensures the function correctly identifies all failure points and doesn’t accidentally pass weak inputs. This is especially important given the high security risk."
      ]
    },
    {
      "cell_type": "markdown",
      "metadata": {
        "id": "Hw5HnLX0xglT"
      },
      "source": [
        "### Step 3: Boundary Analysis"
      ]
    },
    {
      "cell_type": "code",
      "execution_count": null,
      "metadata": {
        "id": "DqA3QrDtxglT"
      },
      "outputs": [],
      "source": [
        "Length Boundary (8 characters):\n",
        "- 7 characters (just under):\n",
        "Example: \"A1@xyz\" - should fail due to insufficient length.\n",
        "- 8 characters (exactly at):\n",
        "Example: \"A1@xyz12\" - should pass if all other rules are met.\n",
        "- 9 characters (just over):\n",
        "Example: \"A1@xyz123\" - should also pass if it meets all criteria."
      ]
    },
    {
      "cell_type": "markdown",
      "metadata": {
        "id": "fRmVfQovxglT"
      },
      "source": [
        "### Step 4: Test Adequacy Decision"
      ]
    },
    {
      "cell_type": "code",
      "execution_count": null,
      "metadata": {
        "id": "yYOUvLmyxglc"
      },
      "outputs": [],
      "source": [
        "How many tests is enough?\n",
        "Minimum viable: 5 tests (one for each equivalence class: valid password, too short, missing uppercase, missing number, missing special character)\n",
        "My plan: 10-12 tests\n",
        "Why this number?\n",
        "I want to cover each individual rule violation, boundary conditions (like exactly 8 characters), and combinations of multiple failures. This helps ensure the validator catches all types of weak passwords and handles edge cases correctly.\n",
        "Could I get the same confidence with fewer tests?\n",
        "Possibly, but only if I'm confident that each rule is independently enforced and the logic doesn’t overlap in unexpected ways. However, given the high security risk, I prefer to test more thoroughly.\n",
        "What am I NOT testing, and why is that OK?\n",
        "I'm not testing non-string inputs (like numbers or None) because I assume the function will only receive strings. If input validation is handled elsewhere, it's reasonable to focus only on string-based password content here."
      ]
    },
    {
      "cell_type": "markdown",
      "metadata": {
        "id": "f56sJ_Wyxglc"
      },
      "source": [
        "### Step 5: Write Specifications"
      ]
    },
    {
      "cell_type": "code",
      "execution_count": null,
      "metadata": {
        "id": "vU6B30voxglc"
      },
      "outputs": [],
      "source": [
        "def is_strong_password(password):\n",
        "    \"\"\"Validate password strength.\"\"\"\n",
        "    pass  # To be implemented\n",
        "\n",
        "# Valid password (meets all requirements):\n",
        "assert is_strong_password(\"Pass123!\") == True\n",
        "\n",
        "# Invalid passwords (one per major equivalence class):\n",
        "assert is_strong_password(\"Pass12!\") == False       # Too short (< 8 characters)\n",
        "assert is_strong_password(\"password123!\") == False  # Missing uppercase letter\n",
        "assert is_strong_password(\"Password!\") == False     # Missing number\n",
        "assert is_strong_password(\"Password123\") == False   # Missing special character\n",
        "\n",
        "# Multiple violations:\n",
        "assert is_strong_password(\"pass\") == False          # Too short, no uppercase, no number, no special character\n",
        "\n",
        "# Boundary tests (based on risk assessment):\n",
        "assert is_strong_password(\"P1@abcde\") == True       # Exactly 8 characters, all rules met\n",
        "assert is_strong_password(\"P1@abcd\") == False       # 7 characters, just under the limit\n",
        "assert is_strong_password(\"P1@abcdefg\") == True     # 9 characters, just over the limit\n",
        "assert is_strong_password(\"\") == False              # Empty string\n",
        "assert is_strong_password(\"!\" * 100) == False       # Very long, only special characters"
      ]
    },
    {
      "cell_type": "markdown",
      "metadata": {
        "id": "Pco0m71wxglc"
      },
      "source": [
        "## Exercise 4.2: AI Implementation and Evaluation\n",
        "\n",
        "**Step 1:** Provide your specifications to AI and ask for implementation.\n",
        "\n",
        "**Your prompt:**"
      ]
    },
    {
      "cell_type": "code",
      "execution_count": null,
      "metadata": {
        "id": "OdadIg_oxglc"
      },
      "outputs": [],
      "source": [
        "\"\"\"\n",
        "Write your complete prompt to AI here:Write a Python function called is_strong_password(password) that validates password strength based on these rules:\n",
        "\n",
        "- Must be at least 8 characters long\n",
        "- Must contain at least one uppercase letter\n",
        "- Must contain at least one number\n",
        "- Must contain at least one special character from this set: !@#$%^&*\n",
        "\n",
        "Make sure the following assertions pass:\n",
        "\n",
        "assert is_strong_password(\"Pass123!\") == True\n",
        "assert is_strong_password(\"Pass12!\") == False       # Too short\n",
        "assert is_strong_password(\"password123!\") == False  # Missing uppercase\n",
        "assert is_strong_password(\"Password!\") == False     # Missing number\n",
        "assert is_strong_password(\"Password123\") == False   # Missing special character\n",
        "assert is_strong_password(\"pass\") == False          # Multiple violations\n",
        "assert is_strong_password(\"P1@abcde\") == True       # Exactly 8 characters\n",
        "assert is_strong_password(\"P1@abcd\") == False       # 7 characters\n",
        "assert is_strong_password(\"P1@abcdefg\") == True     # 9 characters\n",
        "assert is_strong_password(\"\") == False              # Empty string\n",
        "assert is_strong_password(\"!\" * 100) == False       # Only special characters\n",
        "\n",
        "Use only basic Python features like if statements, loops, and string methods. Keep the code simple and beginner-friendly.\n",
        "\n",
        "\n",
        "\"\"\""
      ]
    },
    {
      "cell_type": "markdown",
      "metadata": {
        "id": "AJIYH-mmxglc"
      },
      "source": [
        "**Step 2:** Get AI's implementation and paste it below:"
      ]
    },
    {
      "cell_type": "code",
      "execution_count": null,
      "metadata": {
        "id": "NyJSsi61xgld"
      },
      "outputs": [],
      "source": [
        "# AI's implementation:def is_strong_password(password):\n",
        "    \"\"\"\n",
        "    Validate password strength based on these rules:\n",
        "    - At least 8 characters\n",
        "    - At least one uppercase letter\n",
        "    - At least one number\n",
        "    - At least one special character (!@#$%^&*)\n",
        "    \"\"\"\n",
        "    if len(password) < 8:\n",
        "        return False\n",
        "\n",
        "    has_upper = False\n",
        "    has_digit = False\n",
        "    has_special = False\n",
        "    special_chars = \"!@#$%^&*\"\n",
        "\n",
        "    for char in password:\n",
        "        if char.isupper():\n",
        "            has_upper = True\n",
        "        if char.isdigit():\n",
        "            has_digit = True\n",
        "        if char in special_chars:\n",
        "            has_special = True\n",
        "\n",
        "    return has_upper and has_digit and has_special"
      ]
    },
    {
      "cell_type": "markdown",
      "metadata": {
        "id": "-RTWwe6Uxgld"
      },
      "source": [
        "**Step 3:** Test it with your assertions:"
      ]
    },
    {
      "cell_type": "code",
      "execution_count": null,
      "metadata": {
        "id": "o2TNDrslxgld"
      },
      "outputs": [],
      "source": [
        "def is_strong_password(password):\n",
        "    \"\"\"\n",
        "    Validate password strength based on these rules:\n",
        "    - At least 8 characters\n",
        "    - At least one uppercase letter\n",
        "    - At least one number\n",
        "    - At least one special character (!@#$%^&*)\n",
        "    \"\"\"\n",
        "    if len(password) < 8:\n",
        "        return False\n",
        "\n",
        "    has_upper = False\n",
        "    has_digit = False\n",
        "    has_special = False\n",
        "    special_chars = \"!@#$%^&*\"\n",
        "\n",
        "    for char in password:\n",
        "        if char.isupper():\n",
        "            has_upper = True\n",
        "        if char.isdigit():\n",
        "            has_digit = True\n",
        "        if char in special_chars:\n",
        "            has_special = True\n",
        "\n",
        "    return has_upper and has_digit and has_special\n",
        "\n",
        "# Assertions\n",
        "try:\n",
        "    assert is_strong_password(\"Pass123!\") == True\n",
        "    assert is_strong_password(\"Pass12!\") == False       # Too short\n",
        "    assert is_strong_password(\"password123!\") == False  # Missing uppercase\n",
        "    assert is_strong_password(\"Password!\") == False     # Missing number\n",
        "    assert is_strong_password(\"Password123\") == False   # Missing special character\n",
        "    assert is_strong_password(\"pass\") == False          # Multiple"
      ]
    },
    {
      "cell_type": "markdown",
      "metadata": {
        "id": "V_KjIXfoxgld"
      },
      "source": [
        "**Step 4:** Critical Evaluation"
      ]
    },
    {
      "cell_type": "code",
      "execution_count": null,
      "metadata": {
        "id": "1hVkfNkFxgld"
      },
      "outputs": [],
      "source": [
        "\"\"\"\n",
        "Strategic Evaluation:\n",
        "\n",
        "Here’s a clear and original strategic evaluation of your password validator:\n",
        "\n",
        "1. Does it pass all your assertions?\n",
        "Yes. The implementation correctly handles all the test cases, including valid inputs, individual rule violations, boundary conditions, and edge cases.\n",
        "2. Code Simplicity:\n",
        "- Can a beginner understand this?\n",
        "Yes. The function uses clear variable names and a simple loop structure. Each rule is checked separately, which makes the logic easy to follow.\n",
        "- Does it use only basic Python constructs?\n",
        "Yes. It relies on if statements, string methods, and a for loop—no advanced syntax or libraries.\n",
        "- Is there a simpler approach?\n",
        "Possibly. The loop could be replaced with separate loops or condition checks using only if statements, which might be even more beginner-friendly.\n",
        "3. Did you find any bugs or issues?\n",
        "No bugs were found. The logic is sound, and all rules are enforced correctly. However, it assumes the input is a string. If there's a chance of receiving non-string input, a type check could be added.\n",
        "4. Test Coverage:\n",
        "- Are there scenarios you didn’t test?\n",
        "Yes. You didn’t test inputs like None, numbers, or mixed types. You also didn’t test passwords with only uppercase letters and digits but no special characters.\n",
        "- Are they worth testing (risk vs. effort)?\n",
        "Yes, if the function is exposed to user input directly. Otherwise, if input validation is handled elsewhere, it’s reasonable to leave them out.\n",
        "- Decision: Add tests if input type is uncertain. Otherwise, leave as-is.\n",
        "5. Should you request simplification?\n",
        "Only if you want to avoid loops entirely. If so, use this prompt:\n",
        "\"Make this simpler using only basic if statements.\"\n",
        "\n",
        "\"\"\""
      ]
    }
  ],
  "metadata": {
    "kernelspec": {
      "display_name": "Python 3",
      "language": "python",
      "name": "python3"
    },
    "colab": {
      "provenance": [],
      "include_colab_link": true
    }
  },
  "nbformat": 4,
  "nbformat_minor": 0
}