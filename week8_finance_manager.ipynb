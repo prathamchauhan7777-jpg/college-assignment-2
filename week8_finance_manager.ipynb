{
  "nbformat": 4,
  "nbformat_minor": 0,
  "metadata": {
    "colab": {
      "provenance": [],
      "authorship_tag": "ABX9TyO3EYlWmeNxw2lvWD/1ESaD",
      "include_colab_link": true
    },
    "kernelspec": {
      "name": "python3",
      "display_name": "Python 3"
    },
    "language_info": {
      "name": "python"
    }
  },
  "cells": [
    {
      "cell_type": "markdown",
      "metadata": {
        "id": "view-in-github",
        "colab_type": "text"
      },
      "source": [
        "<a href=\"https://colab.research.google.com/github/prathamchauhan7777-jpg/college-assignment-2/blob/main/week8_finance_manager.ipynb\" target=\"_parent\"><img src=\"https://colab.research.google.com/assets/colab-badge.svg\" alt=\"Open In Colab\"/></a>"
      ]
    },
    {
      "cell_type": "code",
      "execution_count": 12,
      "metadata": {
        "colab": {
          "base_uri": "https://localhost:8080/"
        },
        "id": "m3qZ5NJ2379W",
        "outputId": "a18c0fe1-bc9d-467a-8511-92db910ff75d"
      },
      "outputs": [
        {
          "output_type": "stream",
          "name": "stdout",
          "text": [
            "Loaded lines:\n",
            "Groceries,-55.40\n",
            "Salary,1500.00\n",
            "Coffee,-4.50\n",
            "BAD LINE HERE\n",
            "Netflix,-15.99\n",
            "Refund,35.50\n",
            "Internet,-80\n",
            "Skipped 1 bad line(s).\n",
            "\n",
            "Processed Transactions:\n",
            "{'description': 'Groceries', 'amount': -55.4}\n",
            "{'description': 'Salary', 'amount': 1500.0}\n",
            "{'description': 'Coffee', 'amount': -4.5}\n",
            "{'description': 'Netflix', 'amount': -15.99}\n",
            "{'description': 'Refund', 'amount': 35.5}\n",
            "{'description': 'Internet', 'amount': -80.0}\n",
            "Personal Finance Manager\n",
            "==============================\n",
            "Skipped 1 bad line(s).\n",
            "\n",
            " Transaction Summary\n",
            "------------------------------\n",
            "Total transactions processed: 6\n",
            "Total income: $1535.50\n",
            "Total expenses: $155.89\n",
            "Net total: $1379.61\n"
          ]
        }
      ],
      "source": [
        "def load_transactions(filename):\n",
        "    \"\"\"Read lines from a transaction file safely.\"\"\"\n",
        "    try:\n",
        "        with open(filename, 'r') as file:\n",
        "            lines = file.readlines()\n",
        "        return [line.strip() for line in lines if line.strip()]\n",
        "    except FileNotFoundError:\n",
        "        print(f\"File '{filename}' not found!\")\n",
        "        return []\n",
        "# Test loading the file\n",
        "filename = \"transaction.txt\"\n",
        "raw_lines = load_transactions(filename)\n",
        "\n",
        "print(\"Loaded lines:\")\n",
        "for line in raw_lines:\n",
        "    print(line)\n",
        "def process_transactions(lines):\n",
        "    \"\"\"Convert lines into transaction dictionaries, skipping bad ones.\"\"\"\n",
        "    transactions = []\n",
        "    failed_lines = 0\n",
        "\n",
        "    for line in lines:\n",
        "        if ',' not in line:\n",
        "            failed_lines += 1\n",
        "            continue\n",
        "\n",
        "        parts = line.split(',')\n",
        "        if len(parts) != 2:\n",
        "            failed_lines += 1\n",
        "            continue\n",
        "\n",
        "        description, amount_str = parts\n",
        "        try:\n",
        "            amount = float(amount_str)\n",
        "            transactions.append({\n",
        "                'description': description.strip(),\n",
        "                'amount': amount\n",
        "            })\n",
        "        except ValueError:\n",
        "            failed_lines += 1\n",
        "            continue\n",
        "\n",
        "    print(f\"Skipped {failed_lines} bad line(s).\")\n",
        "    return transactions\n",
        "transactions = process_transactions(raw_lines)\n",
        "\n",
        "print(\"\\nProcessed Transactions:\")\n",
        "for t in transactions:\n",
        "    print(t)\n",
        "def show_summary(transactions):\n",
        "    \"\"\"Display summary of transactions.\"\"\"\n",
        "    total_income = sum(t['amount'] for t in transactions if t['amount'] > 0)\n",
        "    total_expenses = sum(t['amount'] for t in transactions if t['amount'] < 0)\n",
        "    net_total = total_income + total_expenses\n",
        "\n",
        "    print(\"\\n Transaction Summary\")\n",
        "    print(\"-\" * 30)\n",
        "    print(f\"Total transactions processed: {len(transactions)}\")\n",
        "    print(f\"Total income: ${total_income:.2f}\")\n",
        "    print(f\"Total expenses: ${abs(total_expenses):.2f}\")\n",
        "    print(f\"Net total: ${net_total:.2f}\")\n",
        "\n",
        "def main():\n",
        "    print(\"Personal Finance Manager\")\n",
        "    print(\"=\" * 30)\n",
        "\n",
        "    # Load data\n",
        "    filename = \"transaction.txt\"\n",
        "    raw_lines = load_transactions(filename)\n",
        "\n",
        "    if not raw_lines:\n",
        "        print(\"No data to process!\")\n",
        "        return\n",
        "\n",
        "    # Process data\n",
        "    transactions = process_transactions(raw_lines)\n",
        "\n",
        "    # Show results\n",
        "    show_summary(transactions)\n",
        "\n",
        "# Run the program\n",
        "main()\n",
        "\n",
        "# REFLECTION\n",
        "#The hardest part of this project was\n",
        "# handling messy data without crashing the program.\n",
        "#I wasn’t sure how to deal with lines that were missing commas\n",
        "#or had invalid numbers. AI helped me break the problem\n",
        "#into smaller steps and use try-except blocks to catch errors.\n",
        "# It also helped me count failed lines and display a clean summary.\n",
        "#I learned how to write safer code and connect functions together to build a complete system#"
      ]
    }
  ]
}