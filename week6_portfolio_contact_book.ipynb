{
  "nbformat": 4,
  "nbformat_minor": 0,
  "metadata": {
    "colab": {
      "provenance": [],
      "authorship_tag": "ABX9TyP7tznyjJWLCS6Fkoq3VF40",
      "include_colab_link": true
    },
    "kernelspec": {
      "name": "python3",
      "display_name": "Python 3"
    },
    "language_info": {
      "name": "python"
    }
  },
  "cells": [
    {
      "cell_type": "markdown",
      "metadata": {
        "id": "view-in-github",
        "colab_type": "text"
      },
      "source": [
        "<a href=\"https://colab.research.google.com/github/prathamchauhan7777-jpg/college-assignment-2/blob/main/week6_portfolio_contact_book.ipynb\" target=\"_parent\"><img src=\"https://colab.research.google.com/assets/colab-badge.svg\" alt=\"Open In Colab\"/></a>"
      ]
    },
    {
      "cell_type": "code",
      "execution_count": 1,
      "metadata": {
        "colab": {
          "base_uri": "https://localhost:8080/"
        },
        "id": "VF4j8lYmJrC0",
        "outputId": "b49b724f-0299-4cd5-cf7b-a661a7a4bebf"
      },
      "outputs": [
        {
          "output_type": "stream",
          "name": "stdout",
          "text": [
            "{'Ram': '0400 123 456', 'Bob': '0455 999 888', 'Rits': '0422 456 789', 'Pratham': '0411 321 678'}\n",
            "Ram: 0400 123 456\n",
            "Bob: 0455 999 888\n",
            "Rits: 0422 456 789\n",
            "Pratham: 0411 321 678\n",
            "Ram: 0401 234 567, ram@example.com\n",
            "Bob: 0412 345 678, bob@example.com\n",
            "Rits: 0423 456 789, rits@example.com\n",
            "Pratham: 0434 567 890, pratham@example.com\n",
            "Enter a contact name: Rits\n",
            "Rits: 0423 456 789, rits@example.com\n"
          ]
        }
      ],
      "source": [
        "### A2. Add a new entry (your name)\n",
        "\n",
        "\n",
        "# TODO: Add yourself (or another name) to the contacts dictionary\n",
        "\n",
        "contacts = {\n",
        "    \"Ram\": \"0400 123 456\",\n",
        "    \"Bob\": \"0411 987 654\",\n",
        "    \"Rits\": \"0422 456 789\"\n",
        "}\n",
        "contacts[\"Pratham\"] = \"0411 321 678\"\n",
        "# TODO Change Bob's number (or any existing contact) to a new value\n",
        "contacts[\"Bob\"] = \"0455 999 888\"\n",
        "print(contacts)\n",
        "\n",
        "# TODO: Loop through the dictionary and print each contact\n",
        "# Loop through the dictionary and print each contact\n",
        "for name, number in contacts.items():\n",
        "    print(f\"{name}: {number}\")\n",
        "# TODO: Redesign `contacts` so each entry stores both a phone and an email\n",
        "\n",
        "contacts = {\n",
        "    \"Ram\": {\n",
        "        \"phone\": \"0401 234 567\",\n",
        "        \"email\": \"ram@example.com\"\n",
        "    },\n",
        "    \"Bob\": {\n",
        "        \"phone\": \"0412 345 678\",\n",
        "        \"email\": \"bob@example.com\"\n",
        "    },\n",
        "    \"Rits\": {\n",
        "        \"phone\": \"0423 456 789\",\n",
        "        \"email\": \"rits@example.com\"\n",
        "    },\n",
        "    \"Pratham\": {\n",
        "        \"phone\": \"0434 567 890\",\n",
        "        \"email\": \"pratham@example.com\"\n",
        "    }\n",
        "}\n",
        "# TODO: Loop through contacts and print both phone and email\n",
        "for name, info in contacts.items():\n",
        "    print(f\"{name}: {info['phone']}, {info['email']}\")\n",
        "\n",
        "# TODO (optional): Prompt for a name and print their details if found\n",
        "\n",
        "# Prompt for a name\n",
        "search_name = input(\"Enter a contact name: \")\n",
        "\n",
        "# Check if the name exists and print details\n",
        "if search_name in contacts:\n",
        "    info = contacts[search_name]\n",
        "    print(f\"{search_name}: {info['phone']}, {info['email']}\")\n",
        "else:\n",
        "    print(f\"{search_name} not found in contacts.\")"
      ]
    }
  ]
}